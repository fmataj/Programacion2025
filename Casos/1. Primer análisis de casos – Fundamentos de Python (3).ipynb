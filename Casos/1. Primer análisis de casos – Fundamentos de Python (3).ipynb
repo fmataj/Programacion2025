{
 "cells": [
  {
   "cell_type": "markdown",
   "metadata": {
    "id": "q7R3dARlFtDY"
   },
   "source": [
    "# Primer análisis de casos – Fundamentos de Python\n",
    "\n",
    "## Objetivo:\n",
    "En esta tarea, practicaremos los fundamentos básicos de Python resolviendo **cuatro ejercicios** de la lista planteada. Cada solución debe detallar **entradas**, **procesos** y **salidas** para comprender mejor cómo funciona cada problema.\n",
    "\n",
    "### Formato para cada ejercicio (seleccionemos 4 ejercicios):\n",
    "#### Ejercicio X:\n",
    "- **Descripción del problema:** Incluiremos el enunciado del ejercicio.\n",
    "- **Entradas:** Detallaremos los datos que debemos ingresar.\n",
    "- **Proceso:** Explicaremos cómo resolveremos el problema (algoritmo o fórmula).\n",
    "- **Salidas:** Describiremos el resultado que veremos en pantalla al final del proceso.\n",
    "\n",
    "#### Código del ejercicio:\n",
    "- Escribiremos la solución del ejercicio en una celda de código Python.\n",
    "- Agregaremos comentarios para explicar el código y hacerlo más comprensible.\n",
    "\n",
    "### Conclusión:\n",
    "- Al final, resumiremos lo que hemos aprendido resolviendo los ejercicios.\n",
    "- Reflexionaremos sobre cómo Python nos ayuda a solucionar problemas cotidianos.\n",
    "\n",
    "## Formato de entrega del informe en PDF:\n",
    "\n",
    "Debemos exportar nuestro notebook de Jupyter a formato PDF, cumpliendo con las siguientes pautas:\n",
    "\n",
    "### Portada:\n",
    "- Título: \"Primer análisis de casos – Fundamentos de Python\".\n",
    "- Nuestro nombre completo.\n",
    "- Fecha de entrega.\n",
    "- Curso.\n",
    "\n",
    "### Cuerpo del informe:\n",
    "- **Introducción:** Explicaremos brevemente los ejercicios que hemos seleccionado.\n",
    "- **Desarrollo de cada ejercicio:**\n",
    "  - Descripción del problema.\n",
    "  - Entradas, procesos y salidas detallados.\n",
    "  - Capturas de pantalla del código y del resultado de la ejecución.\n",
    "\n",
    "### Conclusión:\n",
    "- Reflexionaremos sobre el aprendizaje y las posibles dificultades que enfrentamos durante la resolución de los ejercicios.\n",
    "\n",
    "## Lista de ejercicios (Seleccionemos 4):\n",
    "\n",
    "1. Calcular el área de un triángulo a partir de la base y altura ingresadas.\n",
    "2. Convertir una cantidad de dólares a colones.\n",
    "3. Convertir grados centígrados a Fahrenheit.\n",
    "4. Mostrar cuántos segundos tiene un lustro.\n",
    "5. Calcular el tiempo que le toma a la luz viajar del sol a Marte.\n",
    "6. Calcular cuántas vueltas da una llanta en 1 km.\n",
    "7. Calcular la longitud de la sombra de un edificio de 20 metros.\n",
    "8. Comparar si la Edad ingresada por dos usuarios es la misma.\n",
    "9. Calcular cuántos meses han transcurrido desde nuestra fecha de nacimiento.\n",
    "10. Calcular el promedio de un alumno en 5 materias.\n",
    "\n",
    "## Proceso de entrega:\n",
    "1. Resolveremos 4 de los ejercicios propuestos en un notebook de.\n",
    "2. Exportaremos el notebook a PDF siguiendo el formato establecido.\n",
    "3. Subiremos el PDF y el archivo de notebook (.ipynb) a la plataforma antes de la fecha límite.\n"
   ]
  },
  {
   "cell_type": "markdown",
   "metadata": {},
   "source": [
    "# Problema #1\n",
    "\n",
    "### Convertir una cantidad de dólares a colones.\n",
    "\n",
    "## Entrada: \n",
    "Leer La cantidad de dolares\n",
    "Leer tipo cambio\n",
    "\n",
    "## Proceso:\n",
    "\n",
    "cantidad_dolares * tipo_cambio\n",
    "\n",
    "## Salida:\n",
    "\n",
    "resultado de la multiplicacion"
   ]
  },
  {
   "cell_type": "code",
   "execution_count": null,
   "metadata": {
    "colab": {
     "base_uri": "https://localhost:8080/"
    },
    "executionInfo": {
     "elapsed": 10485,
     "status": "ok",
     "timestamp": 1712064323417,
     "user": {
      "displayName": "Andrés Mena Abarca",
      "userId": "07418092259593836578"
     },
     "user_tz": 360
    },
    "id": "n3rOsUESDeTs",
    "outputId": "1cd40ed7-f1d2-4b89-bca5-696418df0021"
   },
   "outputs": [
    {
     "name": "stdout",
     "output_type": "stream",
     "text": [
      "10\n"
     ]
    },
    {
     "ename": "TypeError",
     "evalue": "unsupported operand type(s) for *: 'NoneType' and 'int'",
     "output_type": "error",
     "traceback": [
      "\u001b[31m---------------------------------------------------------------------------\u001b[39m",
      "\u001b[31mTypeError\u001b[39m                                 Traceback (most recent call last)",
      "\u001b[36mCell\u001b[39m\u001b[36m \u001b[39m\u001b[32mIn[2]\u001b[39m\u001b[32m, line 6\u001b[39m\n\u001b[32m      2\u001b[39m Dolares = \u001b[38;5;28mprint\u001b[39m(\u001b[38;5;28minput\u001b[39m(\u001b[33m\"\u001b[39m\u001b[33mHola dime la cantidad de dolares que quieres pasar a colones\u001b[39m\u001b[33m\"\u001b[39m))\n\u001b[32m      5\u001b[39m tipo_cambio = \u001b[32m540\u001b[39m \n\u001b[32m----> \u001b[39m\u001b[32m6\u001b[39m colones = \u001b[43mDolares\u001b[49m\u001b[43m \u001b[49m\u001b[43m*\u001b[49m\u001b[43m \u001b[49m\u001b[43mtipo_cambio\u001b[49m\n\u001b[32m      8\u001b[39m \u001b[38;5;28mprint\u001b[39m(\u001b[33m\"\u001b[39m\u001b[33mEquivalente en colones:\u001b[39m\u001b[33m\"\u001b[39m, colones)\n",
      "\u001b[31mTypeError\u001b[39m: unsupported operand type(s) for *: 'NoneType' and 'int'"
     ]
    }
   ],
   "source": [
    "# Código solución aqui\n",
    "Dolares = int(input(\"Hola dime la cantidad de dolares que quieres pasar a colones\"))\n",
    "\n",
    "\n",
    "tipo_cambio = 540 \n",
    "colones = Dolares * tipo_cambio\n",
    "\n",
    "print(\"Equivalente en colones:\", colones)\n"
   ]
  },
  {
   "cell_type": "markdown",
   "metadata": {},
   "source": [
    "# Problema #2\n",
    "\n",
    "### Definir problema\n",
    "Calcular el promedio de un alumno en 5 materias.\n",
    "## Entrada:\n",
    "Pedir las notas al alumno \n",
    "## Proceso:\n",
    "Las notas dadas sumarlas y dividirlas entre 5 para sacar el promedio\n",
    "## Salida:\n",
    "Dar el resultado del promedio"
   ]
  },
  {
   "cell_type": "code",
   "execution_count": 6,
   "metadata": {},
   "outputs": [
    {
     "name": "stdout",
     "output_type": "stream",
     "text": [
      "El promedio de felipe es de : 66.00\n"
     ]
    }
   ],
   "source": [
    "# Código solucción aqui\n",
    "Nombre = input(\"Hola dime tu nombre\")\n",
    "nota1 = float(input(\"Ingrese la nota 1: \"))\n",
    "nota2 = float(input(\"Ingrese la nota 2: \"))\n",
    "nota3 = float(input(\"Ingrese la nota 3: \"))\n",
    "nota4 = float(input(\"Ingrese la nota 4: \"))\n",
    "nota5 = float(input(\"Ingrese la nota 5: \"))\n",
    "\n",
    "\n",
    "suma = nota1 + nota2 + nota3 + nota4 + nota5\n",
    "\n",
    "\n",
    "promedio = suma / 5\n",
    "\n",
    "print(f\"El promedio de {Nombre} es de : {promedio:.2f}\")\n",
    "\n"
   ]
  },
  {
   "cell_type": "markdown",
   "metadata": {},
   "source": [
    "# Problema #3\n",
    "\n",
    "### Definir problema\n",
    "Comparar si la Edad ingresada por dos usuarios es la misma\n",
    "## Entrada:\n",
    "Solicita las Edades al usuario\n",
    "## Proceso:\n",
    "Compara las Edades\n",
    "## Salida:\n",
    "Dar el resultado"
   ]
  },
  {
   "cell_type": "code",
   "execution_count": null,
   "metadata": {},
   "outputs": [],
   "source": [
    "# Código solucción aqui\n",
    "\n",
    "Edad1 = int(input(\"Ingresa la primera Edad: \"))\n",
    "Edad2 = int(input(\"Ingresa la segunda Edad: \"))\n",
    "\n",
    "if Edad1 == Edad2:\n",
    "    print(\"Las dos Edades son iguales\")\n",
    "else:\n",
    "    print(\"Las dos Edades son diferentes\")"
   ]
  },
  {
   "cell_type": "markdown",
   "metadata": {},
   "source": [
    "# Problema #4\n",
    "\n",
    "### Definir problema\n",
    "Convertir grados centigrados a Fahrenheit\n",
    "## Entrada:\n",
    "Solicita al usuario la temperatura en Fahrenheit\n",
    "## Proceso:\n",
    "Convertir los grados celsius a fahrenheit\n",
    "## Salida:\n",
    "Dar el resultado "
   ]
  },
  {
   "cell_type": "code",
   "execution_count": null,
   "metadata": {},
   "outputs": [],
   "source": [
    "# Código solucción aqui\n",
    "\n",
    "fahrenheit = float(input(\"Ingresa la temperatura en grados Fahrenheit: \"))\n",
    "\n",
    "\n",
    "celsius = (fahrenheit - 32) * 5/9\n",
    "\n",
    "print(f\"{fahrenheit}°F son {celsius:.2f}°C\")"
   ]
  }
 ],
 "metadata": {
  "colab": {
   "provenance": []
  },
  "kernelspec": {
   "display_name": "Python 3",
   "name": "python3"
  },
  "language_info": {
   "codemirror_mode": {
    "name": "ipython",
    "version": 3
   },
   "file_extension": ".py",
   "mimetype": "text/x-python",
   "name": "python",
   "nbconvert_exporter": "python",
   "pygments_lexer": "ipython3",
   "version": "3.13.2"
  }
 },
 "nbformat": 4,
 "nbformat_minor": 0
}
